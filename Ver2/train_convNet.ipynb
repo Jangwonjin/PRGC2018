{
 "cells": [
  {
   "cell_type": "code",
   "execution_count": 1,
   "metadata": {
    "scrolled": true
   },
   "outputs": [],
   "source": [
    "import numpy as np\n",
    "import pandas as pd\n",
    "import tensorflow as tf\n",
    "from tqdm import tqdm\n",
    "from tools import *\n",
    "from reload import *\n",
    "from models.convNet_v1 import *\n",
    "\n",
    "os.environ[\"CUDA_DEVICE_ORDER\"]=\"PCI_BUS_ID\"\n",
    "os.environ[\"CUDA_VISIBLE_DEVICES\"]=\"0\""
   ]
  },
  {
   "cell_type": "code",
   "execution_count": 2,
   "metadata": {},
   "outputs": [
    {
     "name": "stderr",
     "output_type": "stream",
     "text": [
      "[ Load Dataset ]: 100%|██████████| 5067/5067 [00:15<00:00, 330.34it/s]\n"
     ]
    }
   ],
   "source": [
    "dataset = reload()"
   ]
  },
  {
   "cell_type": "code",
   "execution_count": 3,
   "metadata": {},
   "outputs": [],
   "source": [
    "dataset.train_dataset = MinMaxScaler(dataset.train_dataset.reshape(3375,-1)).reshape(3375,64,64,64)\n",
    "dataset.test_dataset = MinMaxScaler(dataset.test_dataset.reshape(1692,-1)).reshape(1692,64,64,64)"
   ]
  },
  {
   "cell_type": "code",
   "execution_count": 4,
   "metadata": {
    "scrolled": false
   },
   "outputs": [],
   "source": [
    "tf.reset_default_graph()\n",
    "convnet = convNet((64,64,64), (5,))\n",
    "score = convnet.fc8\n",
    "\n",
    "train_layers = ['fc8', 'fc7', 'fc6']\n",
    "var_list = [v for v in tf.trainable_variables() if v.name.split('/')[0] in train_layers]\n",
    "\n",
    "with tf.name_scope(\"cross_ent\"):\n",
    "    loss = tf.reduce_mean(tf.nn.softmax_cross_entropy_with_logits(logits=score,labels=convnet.y))"
   ]
  },
  {
   "cell_type": "code",
   "execution_count": 5,
   "metadata": {},
   "outputs": [
    {
     "name": "stdout",
     "output_type": "stream",
     "text": [
      "INFO:tensorflow:Summary name fc6/weights:0 is illegal; using fc6/weights_0 instead.\n",
      "INFO:tensorflow:Summary name fc6/biases:0 is illegal; using fc6/biases_0 instead.\n",
      "INFO:tensorflow:Summary name fc7/weights:0 is illegal; using fc7/weights_0 instead.\n",
      "INFO:tensorflow:Summary name fc7/biases:0 is illegal; using fc7/biases_0 instead.\n",
      "INFO:tensorflow:Summary name fc8/weights:0 is illegal; using fc8/weights_0 instead.\n",
      "INFO:tensorflow:Summary name fc8/biases:0 is illegal; using fc8/biases_0 instead.\n"
     ]
    }
   ],
   "source": [
    "with tf.name_scope(\"train\"):\n",
    "    optimizer = tf.train.AdadeltaOptimizer(learning_rate=0.001,rho=0.95,epsilon=1e-09).minimize(loss)\n",
    "    #optimizer = tf.train.GradientDescentOptimizer(0.001).minimize(loss)\n",
    "for var in var_list:\n",
    "    tf.summary.histogram(var.name, var)\n",
    "    \n",
    "tf.summary.scalar('cross_entropy', loss)\n",
    "\n",
    "with tf.name_scope(\"accuracy\"):\n",
    "    correct_pred = tf.equal(tf.argmax(score, 1), tf.argmax(convnet.y, 1))\n",
    "    accuracy = tf.reduce_mean(tf.cast(correct_pred, tf.float32))\n",
    "    \n",
    "tf.summary.scalar('accuracy', accuracy)\n",
    "\n",
    "merged_summary = tf.summary.merge_all()\n",
    "writer = tf.summary.FileWriter(\"./out\")\n",
    "\n",
    "saver = tf.train.Saver()"
   ]
  },
  {
   "cell_type": "code",
   "execution_count": null,
   "metadata": {},
   "outputs": [],
   "source": [
    "train_dataset, train_labels, test_dataset, test_labels, tr_batch_num, te_batch_num = make_batchs(100,\n",
    "                                                                    dataset.train_dataset, dataset.train_labels,\n",
    "                                                                    dataset.test_dataset, dataset.test_labels)"
   ]
  },
  {
   "cell_type": "code",
   "execution_count": null,
   "metadata": {
    "scrolled": false
   },
   "outputs": [
    {
     "name": "stderr",
     "output_type": "stream",
     "text": [
      "[Epochs : 1962 ] Train - Accuracy : 0.99824 Train - Loss : 0.03551:  20%|█▉        | 1962/10000 [6:51:50<27:07:36, 12.15s/it,  Test - Accuracy : 0.52731 Test - Loss : 1.58337]"
     ]
    }
   ],
   "source": [
    "num_epochs=10000\n",
    "\n",
    "with tf.device('/gpu:0'):\n",
    "    convnet.sess.run(tf.global_variables_initializer())\n",
    "    \n",
    "    with tqdm(total = num_epochs) as pbar:\n",
    "        for epoch in range(num_epochs):\n",
    "            train_acc = 0.\n",
    "            train_loss = 0.\n",
    "            train_count = 0\n",
    "            for i in range(tr_batch_num):\n",
    "                acc,cost,op = convnet.sess.run([accuracy,loss,optimizer], feed_dict={convnet.x: train_dataset[i],\n",
    "                                                                             convnet.y: one_hot_encoding(train_labels[i]-np.array([1])),\n",
    "                                                                             convnet.keep_prob: 0.7})\n",
    "                train_acc += acc\n",
    "                train_loss += cost\n",
    "                train_count += 1\n",
    "                \n",
    "            test_acc = 0.\n",
    "            test_loss = 0.\n",
    "            test_count = 0\n",
    "            for i in range(te_batch_num):\n",
    "                acc,cost = convnet.sess.run([accuracy,loss], feed_dict={convnet.x: test_dataset[i],\n",
    "                                                                    convnet.y: one_hot_encoding(test_labels[i]-np.array([1])),\n",
    "                                                                    convnet.keep_prob: 1.0})\n",
    "                test_acc += acc\n",
    "                test_loss += cost\n",
    "                test_count += 1\n",
    "\n",
    "            pbar.set_postfix_str(\" Test - Accuracy : {:.5f}\".format(test_acc/test_count if test_count !=0 else 0)+\n",
    "                                     \" Test - Loss : {:.5f}\".format(test_loss/test_count if test_count !=0 else 0))\n",
    "                    \n",
    "            pbar.set_description(\"[Epochs : \"+str(epoch+1)+\" ]\"+\n",
    "                                 \" Train - Accuracy : {:.5f}\".format(train_acc/train_count if train_count !=0 else 0)+\n",
    "                                 \" Train - Loss : {:.5f}\".format(train_loss/train_count if train_count !=0 else 0))\n",
    "            pbar.update(1)"
   ]
  },
  {
   "cell_type": "code",
   "execution_count": null,
   "metadata": {},
   "outputs": [],
   "source": []
  }
 ],
 "metadata": {
  "kernelspec": {
   "display_name": "Python 3",
   "language": "python",
   "name": "python3"
  },
  "language_info": {
   "codemirror_mode": {
    "name": "ipython",
    "version": 3
   },
   "file_extension": ".py",
   "mimetype": "text/x-python",
   "name": "python",
   "nbconvert_exporter": "python",
   "pygments_lexer": "ipython3",
   "version": "3.5.2"
  }
 },
 "nbformat": 4,
 "nbformat_minor": 2
}
