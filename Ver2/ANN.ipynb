{
 "cells": [
  {
   "cell_type": "code",
   "execution_count": 1,
   "metadata": {},
   "outputs": [],
   "source": [
    "import numpy as np\n",
    "import matplotlib.pyplot as plt\n",
    "import os, glob, skimage, dataset, cv2\n",
    "from skimage import io, transform\n",
    "from tqdm import tqdm\n",
    "from copy import copy\n",
    "from tools import *\n",
    "from reload import *\n",
    "import tensorflow as tf\n",
    "\n",
    "os.environ[\"CUDA_DEVICE_ORDER\"]=\"PCI_BUS_ID\"\n",
    "os.environ[\"CUDA_VISIBLE_DEVICES\"]=\"2\"\n",
    "\n",
    "%matplotlib inline"
   ]
  },
  {
   "cell_type": "code",
   "execution_count": 2,
   "metadata": {
    "scrolled": false
   },
   "outputs": [
    {
     "name": "stderr",
     "output_type": "stream",
     "text": [
      "[ Load Dataset ]: 100%|██████████| 5067/5067 [00:16<00:00, 308.55it/s]\n"
     ]
    }
   ],
   "source": [
    "dataset = reload()"
   ]
  },
  {
   "cell_type": "code",
   "execution_count": 3,
   "metadata": {},
   "outputs": [],
   "source": [
    "projected_dataset = project(dataset.train_dataset, 'y')"
   ]
  },
  {
   "cell_type": "code",
   "execution_count": 4,
   "metadata": {},
   "outputs": [],
   "source": [
    "tf.reset_default_graph()\n",
    "X = tf.placeholder(tf.float32, [None, 64*64])\n",
    "Y = tf.placeholder(tf.int32, [None, 1])\n",
    "Y_one_hot=tf.one_hot(Y,depth=5)\n",
    "Y_ont_hot=tf.reshape(Y_one_hot,[-1,5])\n",
    "keep_prob = tf.placeholder(tf.float32)"
   ]
  },
  {
   "cell_type": "code",
   "execution_count": 5,
   "metadata": {},
   "outputs": [],
   "source": [
    "tf.set_random_seed(777)\n",
    "\n",
    "W1 = tf.get_variable(\"1\", shape=[4096, 2048],initializer=tf.contrib.layers.xavier_initializer())\n",
    "b1 = tf.Variable(tf.random_normal([2048]))\n",
    "\n",
    "W2 = tf.get_variable(\"2\", shape=[2048, 1024],initializer=tf.contrib.layers.xavier_initializer())\n",
    "b2 = tf.Variable(tf.random_normal([1024]))\n",
    "\n",
    "W3 = tf.get_variable(\"3\", shape=[1024, 512],initializer=tf.contrib.layers.xavier_initializer())\n",
    "b3 = tf.Variable(tf.random_normal([512]))\n",
    "\n",
    "W4 = tf.get_variable(\"4\", shape=[512, 256],initializer=tf.contrib.layers.xavier_initializer())\n",
    "b4 = tf.Variable(tf.random_normal([256]))\n",
    "\n",
    "W5 = tf.get_variable(\"5\", shape=[256, 128],initializer=tf.contrib.layers.xavier_initializer())\n",
    "b5 = tf.Variable(tf.random_normal([128]))\n",
    "\n",
    "W6 = tf.get_variable(\"6\", shape=[128, 64],initializer=tf.contrib.layers.xavier_initializer())\n",
    "b6 = tf.Variable(tf.random_normal([64]))\n",
    "\n",
    "W7 = tf.get_variable(\"7\", shape=[64, 5],initializer=tf.contrib.layers.xavier_initializer())\n",
    "b7 = tf.Variable(tf.random_normal([5]))"
   ]
  },
  {
   "cell_type": "code",
   "execution_count": 6,
   "metadata": {},
   "outputs": [],
   "source": [
    "# Layer 구성\n",
    "L1=tf.matmul(X, W1) + b1\n",
    "bn1 = tf.contrib.layers.batch_norm(L1)\n",
    "L1=tf.nn.relu(bn1)\n",
    "L1 = tf.nn.dropout(L1, keep_prob=keep_prob)\n",
    "\n",
    "L2=tf.matmul(L1, W2) + b2\n",
    "bn2 = tf.contrib.layers.batch_norm(L2)\n",
    "L2=tf.nn.relu(bn2)\n",
    "L2 = tf.nn.dropout(L2, keep_prob=keep_prob)\n",
    "\n",
    "L3=tf.matmul(L2, W3) + b3\n",
    "bn3 = tf.contrib.layers.batch_norm(L3)\n",
    "L3 = tf.nn.relu(bn3)\n",
    "L3 = tf.nn.dropout(L3, keep_prob=keep_prob)\n",
    "\n",
    "L4=tf.matmul(L3, W4) + b4\n",
    "bn4 = tf.contrib.layers.batch_norm(L4)\n",
    "L4 = tf.nn.relu(bn4)\n",
    "L4 = tf.nn.dropout(L4, keep_prob=keep_prob)\n",
    "\n",
    "L5=tf.matmul(L4, W5) + b5\n",
    "bn5 = tf.contrib.layers.batch_norm(L5)\n",
    "L5 = tf.nn.relu(bn5)\n",
    "L5 = tf.nn.dropout(L5, keep_prob=keep_prob)\n",
    "\n",
    "L6=tf.matmul(L5, W6) + b6\n",
    "bn6 = tf.contrib.layers.batch_norm(L6)\n",
    "L6 = tf.nn.relu(bn6)\n",
    "L6 = tf.nn.dropout(L6, keep_prob=keep_prob)\n",
    "\n",
    "logit = tf.matmul(L6, W7) + b7\n",
    "hypothesis=tf.nn.softmax(logit)"
   ]
  },
  {
   "cell_type": "code",
   "execution_count": 7,
   "metadata": {},
   "outputs": [],
   "source": [
    "cost = tf.reduce_mean(tf.nn.softmax_cross_entropy_with_logits(logits=logit, labels=Y_one_hot))\n",
    "optimizer = tf.train.GradientDescentOptimizer(0.001).minimize(cost)\n",
    "\n",
    "prediction=tf.argmax(hypothesis,1)\n",
    "target=tf.argmax(Y,1)\n",
    "\n",
    "correct =tf.equal(prediction, target)\n",
    "accuracy=tf.reduce_mean(tf.cast(correct, tf.float32))"
   ]
  },
  {
   "cell_type": "code",
   "execution_count": 8,
   "metadata": {
    "scrolled": false
   },
   "outputs": [],
   "source": [
    "sess = tf.Session()\n",
    "sess.run(tf.global_variables_initializer())"
   ]
  },
  {
   "cell_type": "code",
   "execution_count": 9,
   "metadata": {},
   "outputs": [],
   "source": [
    "training_epochs = 100000\n",
    "\n",
    "indices = np.random.permutation(len(projected_dataset))\n",
    "projected_dataset = projected_dataset[indices]\n",
    "dataset.train_labels = dataset.train_labels[indices]"
   ]
  },
  {
   "cell_type": "code",
   "execution_count": null,
   "metadata": {
    "scrolled": true
   },
   "outputs": [
    {
     "name": "stdout",
     "output_type": "stream",
     "text": [
      "Epoch: 1001 acc =  0.00148 cost = 1.24163\n",
      "Epoch: 2001 acc =  0.00148 cost = 1.14425\n",
      "Epoch: 3001 acc =  0.00030 cost = 1.11026\n",
      "Epoch: 4001 acc =  0.00089 cost = 1.07753\n",
      "Epoch: 5001 acc =  0.00000 cost = 1.04400\n",
      "Epoch: 6001 acc =  0.00089 cost = 1.03470\n",
      "Epoch: 7001 acc =  0.00030 cost = 0.99830\n",
      "Epoch: 8001 acc =  0.00030 cost = 0.96099\n",
      "Epoch: 9001 acc =  0.00030 cost = 0.95013\n",
      "Epoch: 11001 acc =  0.00030 cost = 0.88146\n",
      "Epoch: 12001 acc =  0.00000 cost = 0.86777\n",
      "Epoch: 13001 acc =  0.00119 cost = 0.83247\n",
      "Epoch: 14001 acc =  0.00326 cost = 0.81108\n",
      "Epoch: 15001 acc =  0.00504 cost = 0.79391\n",
      "Epoch: 16001 acc =  0.00978 cost = 0.79061\n",
      "Epoch: 17001 acc =  0.00889 cost = 0.77649\n",
      "Epoch: 18001 acc =  0.01244 cost = 0.77045\n",
      "Epoch: 19001 acc =  0.01748 cost = 0.76486\n",
      "Epoch: 20001 acc =  0.02015 cost = 0.75510\n",
      "Epoch: 21001 acc =  0.02193 cost = 0.73803\n",
      "Epoch: 22001 acc =  0.02252 cost = 0.72981\n",
      "Epoch: 23001 acc =  0.01896 cost = 0.70708\n",
      "Epoch: 25001 acc =  0.01956 cost = 0.68141\n",
      "Epoch: 26001 acc =  0.01985 cost = 0.66443\n",
      "Epoch: 27001 acc =  0.01719 cost = 0.64723\n",
      "Epoch: 28001 acc =  0.01837 cost = 0.64223\n",
      "Epoch: 29001 acc =  0.01719 cost = 0.63039\n",
      "Epoch: 30001 acc =  0.02370 cost = 0.60894\n",
      "Epoch: 31001 acc =  0.01956 cost = 0.60017\n",
      "Epoch: 32001 acc =  0.02133 cost = 0.59201\n",
      "Epoch: 33001 acc =  0.01956 cost = 0.59147\n",
      "Epoch: 34001 acc =  0.02074 cost = 0.57344\n",
      "Epoch: 35001 acc =  0.02015 cost = 0.57121\n",
      "Epoch: 36001 acc =  0.02015 cost = 0.56253\n",
      "Epoch: 37001 acc =  0.01689 cost = 0.56519\n",
      "Epoch: 38001 acc =  0.01778 cost = 0.55457\n",
      "Epoch: 39001 acc =  0.01807 cost = 0.54016\n",
      "Epoch: 40001 acc =  0.01778 cost = 0.55173\n",
      "Epoch: 41001 acc =  0.01689 cost = 0.54522\n",
      "Epoch: 42001 acc =  0.02400 cost = 0.53364\n",
      "Epoch: 43001 acc =  0.01926 cost = 0.53944\n",
      "Epoch: 44001 acc =  0.01956 cost = 0.53670\n",
      "Epoch: 45001 acc =  0.01600 cost = 0.53862\n",
      "Epoch: 46001 acc =  0.02044 cost = 0.53276\n",
      "Epoch: 47001 acc =  0.01896 cost = 0.53198\n",
      "Epoch: 48001 acc =  0.01630 cost = 0.53011\n",
      "Epoch: 49001 acc =  0.01126 cost = 0.52581\n",
      "Epoch: 50001 acc =  0.00978 cost = 0.52097\n",
      "Epoch: 51001 acc =  0.01156 cost = 0.51545\n",
      "Epoch: 52001 acc =  0.00681 cost = 0.59133\n",
      "Epoch: 53001 acc =  0.01304 cost = 0.52410\n",
      "Epoch: 54001 acc =  0.01333 cost = 0.52055\n",
      "Epoch: 55001 acc =  0.01363 cost = 0.50648\n",
      "Epoch: 56001 acc =  0.01363 cost = 0.51794\n",
      "Epoch: 57001 acc =  0.01185 cost = 0.51661\n",
      "Epoch: 58001 acc =  0.00622 cost = 0.50997\n",
      "Epoch: 59001 acc =  0.00948 cost = 0.51280\n",
      "Epoch: 60001 acc =  0.00681 cost = 0.50318\n",
      "Epoch: 61001 acc =  0.00741 cost = 0.51254\n",
      "Epoch: 62001 acc =  0.00919 cost = 0.51444\n",
      "Epoch: 63001 acc =  0.01096 cost = 0.49850\n",
      "Epoch: 64001 acc =  0.01333 cost = 0.50011\n",
      "Epoch: 65001 acc =  0.01067 cost = 0.55213\n",
      "Epoch: 66001 acc =  0.00622 cost = 0.62128\n",
      "Epoch: 67001 acc =  0.00859 cost = 0.69943\n",
      "Epoch: 68001 acc =  0.00326 cost = 0.76648\n",
      "Epoch: 69001 acc =  0.00593 cost = 0.70571\n",
      "Epoch: 70001 acc =  0.00119 cost = 1.43110\n",
      "Epoch: 71001 acc =  0.00000 cost = 0.74735\n",
      "Epoch: 72001 acc =  0.01126 cost = 1.84467\n",
      "Epoch: 73001 acc =  0.00267 cost = 2.10589\n",
      "Epoch: 74001 acc =  0.00089 cost = 2.08858\n",
      "Epoch: 75001 acc =  0.00000 cost = 1.92433\n",
      "Epoch: 76001 acc =  0.01452 cost = 3.19151\n",
      "Epoch: 77001 acc =  0.00000 cost = 7.21747\n",
      "Epoch: 78001 acc =  0.00000 cost = 4.20676\n",
      "Epoch: 79001 acc =  0.00000 cost = 4.26800\n",
      "Epoch: 80001 acc =  0.03911 cost = 7.98135\n",
      "Epoch: 81001 acc =  0.04089 cost = 4.47427\n",
      "Epoch: 82001 acc =  0.00000 cost = 9.11948\n",
      "Epoch: 83001 acc =  0.00030 cost = 11.32992\n",
      "Epoch: 84001 acc =  0.00000 cost = 9.61354\n",
      "Epoch: 85001 acc =  0.00000 cost = 12.56210\n",
      "Epoch: 86001 acc =  0.00000 cost = 14.74127\n",
      "Epoch: 87001 acc =  0.00000 cost = 23.90165\n",
      "Epoch: 88001 acc =  0.00000 cost = 28.10551\n",
      "Epoch: 89001 acc =  0.00000 cost = 13.02407\n",
      "Epoch: 90001 acc =  0.42607 cost = 28.91950\n",
      "Epoch: 91001 acc =  0.31941 cost = 42.45592\n",
      "Epoch: 92001 acc =  0.00000 cost = 28.93835\n",
      "Epoch: 93001 acc =  0.00000 cost = 25.92089\n",
      "Epoch: 94001 acc =  0.00000 cost = 54.59028\n",
      "Epoch: 95001 acc =  0.00089 cost = 37.93982\n",
      "Epoch: 96001 acc =  0.00000 cost = 58.26580\n",
      "Epoch: 97001 acc =  0.00000 cost = 41.78119\n",
      "Epoch: 98001 acc =  0.44800 cost = 84.85861\n",
      "Epoch: 99001 acc =  0.00000 cost = 56.17066\n",
      "Epoch: 100001 acc =  0.00000 cost = 160.00505\n",
      "Epoch: 101001 acc =  0.60889 cost = 93.61119\n",
      "Epoch: 102001 acc =  0.00000 cost = 167.56776\n",
      "Epoch: 103001 acc =  0.00000 cost = 185.81253\n",
      "Epoch: 104001 acc =  0.00000 cost = 378.86682\n",
      "Epoch: 105001 acc =  0.00000 cost = 209.02759\n",
      "Epoch: 106001 acc =  0.00030 cost = 130.08421\n",
      "Epoch: 107001 acc =  0.00000 cost = 223.65257\n",
      "Epoch: 108001 acc =  0.00000 cost = 301.62064\n",
      "Epoch: 109001 acc =  0.00000 cost = 738.94409\n",
      "Epoch: 110001 acc =  0.00000 cost = 177.75592\n",
      "Epoch: 111001 acc =  0.00000 cost = 366.36319\n",
      "Epoch: 112001 acc =  0.00000 cost = 563.45715\n",
      "Epoch: 113001 acc =  0.00000 cost = 527.32037\n",
      "Epoch: 114001 acc =  0.00000 cost = 1217.55701\n",
      "Epoch: 115001 acc =  0.99970 cost = 809.57739\n",
      "Epoch: 116001 acc =  0.00000 cost = 803.88684\n",
      "Epoch: 117001 acc =  1.00000 cost = 1050.37439\n",
      "Epoch: 118001 acc =  0.00000 cost = 1574.60828\n"
     ]
    }
   ],
   "source": [
    "for epoch in range(10000000):\n",
    "    with tf.device('/device:GPU:2'):\n",
    "        feed_dict = {X: projected_dataset.reshape(len(projected_dataset),-1), Y: dataset.train_labels, keep_prob:0.7}\n",
    "        c, _, tr_acc = sess.run([cost, optimizer, accuracy], feed_dict=feed_dict)\n",
    "        if epoch != 0 and epoch%1000 == 0:\n",
    "            print('Epoch:', '%04d' % (epoch + 1), 'acc = ','{:.5f}'.format(tr_acc), 'cost =', '{:.5f}'.format(c))\n",
    "\n",
    "print('Learning Finished!')"
   ]
  },
  {
   "cell_type": "code",
   "execution_count": null,
   "metadata": {},
   "outputs": [],
   "source": []
  }
 ],
 "metadata": {
  "kernelspec": {
   "display_name": "Python 3",
   "language": "python",
   "name": "python3"
  },
  "language_info": {
   "codemirror_mode": {
    "name": "ipython",
    "version": 3
   },
   "file_extension": ".py",
   "mimetype": "text/x-python",
   "name": "python",
   "nbconvert_exporter": "python",
   "pygments_lexer": "ipython3",
   "version": "3.5.2"
  }
 },
 "nbformat": 4,
 "nbformat_minor": 2
}
