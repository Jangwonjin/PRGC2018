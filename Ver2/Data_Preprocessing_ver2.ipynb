{
 "cells": [
  {
   "cell_type": "markdown",
   "metadata": {},
   "source": [
    "# Data Preprocessing_ver2"
   ]
  },
  {
   "cell_type": "code",
   "execution_count": 1,
   "metadata": {},
   "outputs": [],
   "source": [
    "import numpy as np\n",
    "import pandas as pd\n",
    "import matplotlib.pyplot as plt\n",
    "import nibabel as nib\n",
    "import os, glob, skimage, dataset, cv2\n",
    "from skimage import io, transform\n",
    "from tqdm import tqdm\n",
    "from copy import copy\n",
    "from tools import *\n",
    "\n",
    "%matplotlib inline"
   ]
  },
  {
   "cell_type": "code",
   "execution_count": 2,
   "metadata": {},
   "outputs": [],
   "source": [
    "img_path = explore_dir('./dataset',\"nii.gz\")\n",
    "\n",
    "train_indices = list()\n",
    "test_indices = list()\n",
    "\n",
    "csv_file = pd.read_csv(\"./S1_Data.csv\")\n",
    "\n",
    "for i in range(len(list(csv_file.Holdout))):\n",
    "    if csv_file.Holdout[i]=='Train':\n",
    "        train_indices.append(i)\n",
    "    else:\n",
    "        test_indices.append(i)"
   ]
  },
  {
   "cell_type": "code",
   "execution_count": 3,
   "metadata": {},
   "outputs": [],
   "source": [
    "csv_file = csv_file.as_matrix()\n",
    "\n",
    "train_csv = csv_file[train_indices[0]][np.newaxis,:]\n",
    "test_csv = csv_file[test_indices[0]][np.newaxis,:]\n",
    "\n",
    "for i, entity in enumerate(csv_file):\n",
    "    if i in train_indices[1:] :\n",
    "        train_csv = np.concatenate((train_csv,[entity]),axis=0)\n",
    "    elif i in test_indices[1:] :\n",
    "        test_csv = np.concatenate((test_csv,[entity]),axis=0)"
   ]
  },
  {
   "cell_type": "code",
   "execution_count": 4,
   "metadata": {
    "scrolled": true
   },
   "outputs": [
    {
     "name": "stderr",
     "output_type": "stream",
     "text": [
      "image_load:   0%|          | 0/5067 [00:00<?, ?it/s]/usr/local/lib/python3.5/dist-packages/skimage/transform/_warps.py:84: UserWarning: The default mode, 'constant', will be changed to 'reflect' in skimage 0.15.\n",
      "  warn(\"The default mode, 'constant', will be changed to 'reflect' in \"\n",
      "image_load: 100%|██████████| 5067/5067 [27:55<00:00,  3.30it/s]\n"
     ]
    }
   ],
   "source": [
    "train_dataset = list()\n",
    "train_labels = list()\n",
    "test_dataset = list()\n",
    "test_labels = list()\n",
    "\n",
    "with tqdm(total=len(img_path[0])) as pbar:\n",
    "    pbar.set_description('image_load')\n",
    "    for i, nibFilename in enumerate(img_path[0]):\n",
    "        brain = apply_3D_bbox(np.array(nib.load(img_path[1][i]).get_data(), dtype=np.float64))\n",
    "        if nibFilename in train_csv[:,7]:\n",
    "            train_dataset.append(transform.resize(brain,(64,64,64)))\n",
    "            train_labels.append(train_csv[list(train_csv[:,7]).index(nibFilename),10])\n",
    "        elif nibFilename in test_csv[:,7]:\n",
    "            test_dataset.append(transform.resize(brain,(64,64,64)))\n",
    "            test_labels.append(test_csv[list(test_csv[:,7]).index(nibFilename),10])\n",
    "        pbar.update(1)"
   ]
  }
 ],
 "metadata": {
  "kernelspec": {
   "display_name": "Python 3",
   "language": "python",
   "name": "python3"
  },
  "language_info": {
   "codemirror_mode": {
    "name": "ipython",
    "version": 3
   },
   "file_extension": ".py",
   "mimetype": "text/x-python",
   "name": "python",
   "nbconvert_exporter": "python",
   "pygments_lexer": "ipython3",
   "version": "3.5.2"
  }
 },
 "nbformat": 4,
 "nbformat_minor": 2
}
